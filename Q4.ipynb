{
 "cells": [
  {
   "cell_type": "code",
   "execution_count": 1,
   "id": "e304671e-9463-41e4-9822-1d61d2a064f8",
   "metadata": {},
   "outputs": [
    {
     "name": "stdin",
     "output_type": "stream",
     "text": [
      "Enter the size of the array:  5\n"
     ]
    }
   ],
   "source": [
    "import numpy as np\n",
    "\n",
    "size = int(input(\"Enter the size of the array: \"))"
   ]
  },
  {
   "cell_type": "code",
   "execution_count": 4,
   "id": "2b356727-3ead-49b1-ac47-897733bfd82b",
   "metadata": {},
   "outputs": [
    {
     "name": "stdout",
     "output_type": "stream",
     "text": [
      "1. Single-dimensional array:\n",
      "[1 2 3 4]\n"
     ]
    }
   ],
   "source": [
    "print(\"1. Single-dimensional array:\")\n",
    "arr = np.array((1, 2, 3, 4))\n",
    "print(arr)"
   ]
  },
  {
   "cell_type": "code",
   "execution_count": 5,
   "id": "2d00f021-c022-4f38-840d-5e36c3048455",
   "metadata": {},
   "outputs": [
    {
     "name": "stdout",
     "output_type": "stream",
     "text": [
      "2. Multi-dimensional array:\n",
      "[[1 0]\n",
      " [6 4]]\n"
     ]
    }
   ],
   "source": [
    "print(\"2. Multi-dimensional array:\")\n",
    "arr2= np.array( [ [1, 0], [6, 4] ] )\n",
    "print(arr2)"
   ]
  },
  {
   "cell_type": "code",
   "execution_count": 6,
   "id": "1ba4193e-272d-4c61-b9b1-85f224871169",
   "metadata": {},
   "outputs": [
    {
     "name": "stdout",
     "output_type": "stream",
     "text": [
      "3. Array of all ones:\n",
      "[1. 1. 1. 1. 1.]\n"
     ]
    }
   ],
   "source": [
    "print(\"3. Array of all ones:\")\n",
    "arr3 = np.ones(size)\n",
    "print(arr3)"
   ]
  },
  {
   "cell_type": "code",
   "execution_count": 7,
   "id": "0b1f5c98-54d3-49bb-bb6d-90037bd5d4ce",
   "metadata": {},
   "outputs": [
    {
     "name": "stdout",
     "output_type": "stream",
     "text": [
      "4. Array of all zeros:\n",
      "[0. 0. 0. 0. 0.]\n"
     ]
    }
   ],
   "source": [
    "print(\"4. Array of all zeros:\")\n",
    "arr4= np.zeros(size)\n",
    "print(arr4)\n"
   ]
  },
  {
   "cell_type": "code",
   "execution_count": 9,
   "id": "02bc79f1-8d9a-4f1e-9ab5-67680a0a1a14",
   "metadata": {},
   "outputs": [
    {
     "name": "stdout",
     "output_type": "stream",
     "text": [
      "5. Array with random values:\n"
     ]
    },
    {
     "name": "stdin",
     "output_type": "stream",
     "text": [
      "Enter minimum value:  2\n",
      "Enter maximum value:  12\n"
     ]
    },
    {
     "name": "stdout",
     "output_type": "stream",
     "text": [
      "[ 5.16224859 11.05932952  4.048104    7.93487184  3.80380517]\n"
     ]
    }
   ],
   "source": [
    "print(\"5. Array with random values:\")\n",
    "num1= float(input(\"Enter minimum value: \"))\n",
    "num2 = float(input(\"Enter maximum value: \"))\n",
    "random_array = np.random.rand(size) * (num2 - num1) + num1\n",
    "print(random_array)\n"
   ]
  },
  {
   "cell_type": "code",
   "execution_count": 10,
   "id": "57baa6bc-b0dc-4e1b-878e-9183e27f42eb",
   "metadata": {},
   "outputs": [
    {
     "name": "stdout",
     "output_type": "stream",
     "text": [
      "[8 1 9 1 1 0 8 5 5 1 8 4 0 4 7 9 8 7 0 2]\n"
     ]
    }
   ],
   "source": [
    "array = np.random.randint(10, size=(20)) \n",
    "# the array will be having 20 elements. \n",
    "print(array)"
   ]
  },
  {
   "cell_type": "code",
   "execution_count": null,
   "id": "1defe07e-062f-4e57-9af6-746608d15995",
   "metadata": {},
   "outputs": [
    {
     "name": "stdout",
     "output_type": "stream",
     "text": [
      "\n",
      "6. Diagonal matrix:\n"
     ]
    }
   ],
   "source": [
    "print(\"\\n6. Diagonal matrix:\")\n",
    "num= float(input(\"Enter the diagonal value\"))\n",
    "D = np.diag(num)\n",
    "print(D)"
   ]
  },
  {
   "cell_type": "code",
   "execution_count": null,
   "id": "c9a0445d-21d4-4f51-91af-1011c70d7b5a",
   "metadata": {},
   "outputs": [],
   "source": []
  }
 ],
 "metadata": {
  "kernelspec": {
   "display_name": "Python 3 (ipykernel)",
   "language": "python",
   "name": "python3"
  },
  "language_info": {
   "codemirror_mode": {
    "name": "ipython",
    "version": 3
   },
   "file_extension": ".py",
   "mimetype": "text/x-python",
   "name": "python",
   "nbconvert_exporter": "python",
   "pygments_lexer": "ipython3",
   "version": "3.12.3"
  }
 },
 "nbformat": 4,
 "nbformat_minor": 5
}
