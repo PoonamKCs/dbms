{
 "cells": [
  {
   "cell_type": "code",
   "execution_count": null,
   "id": "b3a6fe8f-07c7-4730-875f-e13d2f1155c2",
   "metadata": {},
   "outputs": [],
   "source": [
    "-----------------------          QUES -2    ---------------"
   ]
  },
  {
   "cell_type": "code",
   "execution_count": 5,
   "id": "60cbb393-3f63-4b1e-b99a-b4f7b018467a",
   "metadata": {},
   "outputs": [],
   "source": [
    "import numpy as np"
   ]
  },
  {
   "cell_type": "code",
   "execution_count": 2,
   "id": "ef1f05a8-6c98-426e-8d3b-9ddef9cb241e",
   "metadata": {},
   "outputs": [
    {
     "name": "stdin",
     "output_type": "stream",
     "text": [
      "Enter the first operand (True/False or 1/0):  True\n",
      "Enter the second operand (True/False or 1/0):  False\n"
     ]
    }
   ],
   "source": [
    "op1 = input(\"Enter the first operand (True/False or 1/0): \")\n",
    "op2 = input(\"Enter the second operand (True/False or 1/0): \")\n"
   ]
  },
  {
   "cell_type": "code",
   "execution_count": 8,
   "id": "21a01a04-8634-4f65-9e9f-38b0c6fcdf73",
   "metadata": {},
   "outputs": [],
   "source": [
    "result_and = op1 and op2\n",
    "result_or = op1 or op2\n",
    "result_not_first = not op1\n",
    "result_xor = op1 != op2"
   ]
  },
  {
   "cell_type": "code",
   "execution_count": 9,
   "id": "0e563c15-63bc-42f0-9182-1238a33cea3a",
   "metadata": {},
   "outputs": [
    {
     "name": "stdout",
     "output_type": "stream",
     "text": [
      "Results:\n",
      "AND (True AND False) = False\n",
      "OR (True OR False) = True\n",
      "NOT (True) = False\n",
      "XOR (True XOR False) = True\n"
     ]
    }
   ],
   "source": [
    "print(\"Results:\")\n",
    "print(f\"AND ({op1} AND {op2}) = {result_and}\")\n",
    "print(f\"OR ({op1} OR {op2}) = {result_or}\")\n",
    "print(f\"NOT ({op1}) = {op2}\")\n",
    "print(f\"XOR ({op1} XOR {op2}) = {result_xor}\")"
   ]
  }
 ],
 "metadata": {
  "kernelspec": {
   "display_name": "Python 3 (ipykernel)",
   "language": "python",
   "name": "python3"
  },
  "language_info": {
   "codemirror_mode": {
    "name": "ipython",
    "version": 3
   },
   "file_extension": ".py",
   "mimetype": "text/x-python",
   "name": "python",
   "nbconvert_exporter": "python",
   "pygments_lexer": "ipython3",
   "version": "3.12.3"
  }
 },
 "nbformat": 4,
 "nbformat_minor": 5
}
