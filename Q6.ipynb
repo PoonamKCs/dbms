{
 "cells": [
  {
   "cell_type": "code",
   "execution_count": null,
   "id": "f09ddea1-3df8-405e-9a24-fd0e7333d2f8",
   "metadata": {},
   "outputs": [],
   "source": [
    "------- QUES6 ----------"
   ]
  },
  {
   "cell_type": "code",
   "execution_count": 13,
   "id": "483b4b5d",
   "metadata": {},
   "outputs": [
    {
     "data": {
      "text/plain": [
       "array([[ 1, 32,  0, 11, 19],\n",
       "       [10, 40, 19, 31, 36],\n",
       "       [ 1, 19,  0,  7, 30],\n",
       "       [18,  9, 19, 21, 49],\n",
       "       [46, 17, 38, 44, 30]])"
      ]
     },
     "execution_count": 13,
     "metadata": {},
     "output_type": "execute_result"
    }
   ],
   "source": [
    "import numpy as np\n",
    "arr1 = np.random.randint(50, size=(5,5))\n",
    "arr1\n"
   ]
  },
  {
   "cell_type": "code",
   "execution_count": 14,
   "id": "8e369c28",
   "metadata": {},
   "outputs": [
    {
     "data": {
      "text/plain": [
       "array([[15, 13, 39, 31, 42],\n",
       "       [35, 11, 14,  1, 34],\n",
       "       [32, 24, 21,  4, 36],\n",
       "       [ 0, 24,  7,  6, 34],\n",
       "       [47, 46, 22,  7, 39]])"
      ]
     },
     "execution_count": 14,
     "metadata": {},
     "output_type": "execute_result"
    }
   ],
   "source": [
    "arr2 = np.random.randint(50, size=(5,5))\n",
    "arr2\n"
   ]
  },
  {
   "cell_type": "code",
   "execution_count": 15,
   "id": "1e2bd5e1",
   "metadata": {},
   "outputs": [
    {
     "data": {
      "text/plain": [
       "array([[16, 45, 39, 42, 61],\n",
       "       [45, 51, 33, 32, 70],\n",
       "       [33, 43, 21, 11, 66],\n",
       "       [18, 33, 26, 27, 83],\n",
       "       [93, 63, 60, 51, 69]])"
      ]
     },
     "execution_count": 15,
     "metadata": {},
     "output_type": "execute_result"
    }
   ],
   "source": [
    "#Addition\n",
    "add = arr1+arr2\n",
    "add"
   ]
  },
  {
   "cell_type": "code",
   "execution_count": 16,
   "id": "0eba02f2",
   "metadata": {},
   "outputs": [
    {
     "data": {
      "text/plain": [
       "array([[  15,  416,    0,  341,  798],\n",
       "       [ 350,  440,  266,   31, 1224],\n",
       "       [  32,  456,    0,   28, 1080],\n",
       "       [   0,  216,  133,  126, 1666],\n",
       "       [2162,  782,  836,  308, 1170]])"
      ]
     },
     "execution_count": 16,
     "metadata": {},
     "output_type": "execute_result"
    }
   ],
   "source": [
    "#Multiplocation\n",
    "mul = arr1*arr2\n",
    "mul"
   ]
  },
  {
   "cell_type": "code",
   "execution_count": 21,
   "id": "70cd3000",
   "metadata": {},
   "outputs": [
    {
     "name": "stderr",
     "output_type": "stream",
     "text": [
      "C:\\Users\\CSLab\\AppData\\Local\\Temp\\ipykernel_9152\\3575137442.py:2: RuntimeWarning: divide by zero encountered in true_divide\n",
      "  div1 = arr1/arr2\n"
     ]
    },
    {
     "data": {
      "text/plain": [
       "array([[ 0.06666667,  2.46153846,  0.        ,  0.35483871,  0.45238095],\n",
       "       [ 0.28571429,  3.63636364,  1.35714286, 31.        ,  1.05882353],\n",
       "       [ 0.03125   ,  0.79166667,  0.        ,  1.75      ,  0.83333333],\n",
       "       [        inf,  0.375     ,  2.71428571,  3.5       ,  1.44117647],\n",
       "       [ 0.9787234 ,  0.36956522,  1.72727273,  6.28571429,  0.76923077]])"
      ]
     },
     "execution_count": 21,
     "metadata": {},
     "output_type": "execute_result"
    }
   ],
   "source": [
    "#Division\n",
    "div1 = arr1/arr2\n",
    "div1"
   ]
  },
  {
   "cell_type": "code",
   "execution_count": 22,
   "id": "38f85591",
   "metadata": {},
   "outputs": [
    {
     "name": "stderr",
     "output_type": "stream",
     "text": [
      "C:\\Users\\CSLab\\AppData\\Local\\Temp\\ipykernel_9152\\3383509860.py:1: RuntimeWarning: divide by zero encountered in true_divide\n",
      "  div2 = arr2/arr1\n"
     ]
    },
    {
     "data": {
      "text/plain": [
       "array([[15.        ,  0.40625   ,         inf,  2.81818182,  2.21052632],\n",
       "       [ 3.5       ,  0.275     ,  0.73684211,  0.03225806,  0.94444444],\n",
       "       [32.        ,  1.26315789,         inf,  0.57142857,  1.2       ],\n",
       "       [ 0.        ,  2.66666667,  0.36842105,  0.28571429,  0.69387755],\n",
       "       [ 1.02173913,  2.70588235,  0.57894737,  0.15909091,  1.3       ]])"
      ]
     },
     "execution_count": 22,
     "metadata": {},
     "output_type": "execute_result"
    }
   ],
   "source": [
    "div2 = arr2/arr1\n",
    "div2"
   ]
  },
  {
   "cell_type": "code",
   "execution_count": 27,
   "id": "c9aa52ba",
   "metadata": {},
   "outputs": [
    {
     "data": {
      "text/plain": [
       "array([[          1,           0,           0,  1823198243,   492349961],\n",
       "       [          0,           0,  -281002215,          31,           0],\n",
       "       [          1,  1938398561,           0,        2401,           0],\n",
       "       [          1,   -88328767,   893871739,    85766121, -1641169055],\n",
       "       [          0,  -867578399,  1312817152,  1450229760,           0]],\n",
       "      dtype=int32)"
      ]
     },
     "execution_count": 27,
     "metadata": {},
     "output_type": "execute_result"
    }
   ],
   "source": [
    "#Exponential\n",
    "exp1 = arr1**arr2\n",
    "exp1\n",
    "\n"
   ]
  },
  {
   "cell_type": "code",
   "execution_count": 28,
   "id": "3ef4fc1d",
   "metadata": {},
   "outputs": [
    {
     "data": {
      "text/plain": [
       "array([[         15,  1780897921,           1,   129082719,  1332215808],\n",
       "       [ 1528444521,  1640444129,  1052246016,           1,           0],\n",
       "       [         32,           0,           1,       16384,           0],\n",
       "       [          0,   402653184,   442181591,  1449132032,           0],\n",
       "       [ -512419231,   -13762560,           0, -1924013279, -1606643183]],\n",
       "      dtype=int32)"
      ]
     },
     "execution_count": 28,
     "metadata": {},
     "output_type": "execute_result"
    }
   ],
   "source": [
    "exp2 = arr2**arr1\n",
    "exp2"
   ]
  },
  {
   "cell_type": "code",
   "execution_count": 44,
   "id": "7ed0a993",
   "metadata": {},
   "outputs": [],
   "source": [
    "name = \"Saloni\"\n",
    "age = 19\n",
    "address = \"Delhi\""
   ]
  },
  {
   "cell_type": "code",
   "execution_count": null,
   "id": "4edbdb26",
   "metadata": {},
   "outputs": [],
   "source": [
    "\n",
    "#Display\n",
    "print(\"My name is \",name)\n",
    "print(\"My age is \",age)\n",
    "print(\"I live in \",address)\n",
    "\n"
   ]
  }
 ],
 "metadata": {
  "kernelspec": {
   "display_name": "Python 3 (ipykernel)",
   "language": "python",
   "name": "python3"
  },
  "language_info": {
   "codemirror_mode": {
    "name": "ipython",
    "version": 3
   },
   "file_extension": ".py",
   "mimetype": "text/x-python",
   "name": "python",
   "nbconvert_exporter": "python",
   "pygments_lexer": "ipython3",
   "version": "3.12.3"
  }
 },
 "nbformat": 4,
 "nbformat_minor": 5
}
