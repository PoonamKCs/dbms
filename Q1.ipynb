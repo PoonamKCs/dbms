{
 "cells": [
  {
   "cell_type": "code",
   "execution_count": null,
   "id": "bdcf77a9-aed4-47e5-823d-2dc23a72e6ff",
   "metadata": {},
   "outputs": [],
   "source": [
    "      -----------------------        QUES 1---------------"
   ]
  },
  {
   "cell_type": "code",
   "execution_count": 3,
   "id": "6618fee3-213c-4a28-a41f-484d620a7fdf",
   "metadata": {},
   "outputs": [],
   "source": [
    "import numpy as np"
   ]
  },
  {
   "cell_type": "code",
   "execution_count": 4,
   "id": "2a94ba27-d557-4b0b-8552-ff1bb7a77f86",
   "metadata": {},
   "outputs": [
    {
     "name": "stdin",
     "output_type": "stream",
     "text": [
      "Enter the first number:  20\n",
      "Enter the second number:  10\n"
     ]
    }
   ],
   "source": [
    "num1 = float(input(\"Enter the first number: \"))\n",
    "num2 = float(input(\"Enter the second number: \"))"
   ]
  },
  {
   "cell_type": "code",
   "execution_count": 5,
   "id": "5a201c54-1561-4ee3-a624-b6d80c95b6aa",
   "metadata": {},
   "outputs": [],
   "source": [
    "sum_result = num1 + num2\n",
    "product_result = num1 * num2\n",
    "division_result = num1 / num2\n",
    "power_result = num1 ** num2"
   ]
  },
  {
   "cell_type": "code",
   "execution_count": 8,
   "id": "0b70abfd-4096-40f1-964d-74b13805dced",
   "metadata": {},
   "outputs": [
    {
     "name": "stdout",
     "output_type": "stream",
     "text": [
      "Results:\n",
      "Sum: 20.0 + 10.0 = 30.0\n",
      "Product: 20.0 * 10.0 = 200.0\n",
      "Division: 20.0 / 10.0 = 2.0\n",
      "20.0 raised to the power of 10.0 = 10240000000000.0\n"
     ]
    }
   ],
   "source": [
    "print(\"Results:\")\n",
    "print(f\"Sum: {num1} + {num2} = {sum_result}\")\n",
    "print(f\"Product: {num1} * {num2} = {product_result}\")\n",
    "print(f\"Division: {num1} / {num2} = {division_result}\")\n",
    "print(f\"{num1} raised to the power of {num2} = {power_result}\")"
   ]
  }
 ],
 "metadata": {
  "kernelspec": {
   "display_name": "Python 3 (ipykernel)",
   "language": "python",
   "name": "python3"
  },
  "language_info": {
   "codemirror_mode": {
    "name": "ipython",
    "version": 3
   },
   "file_extension": ".py",
   "mimetype": "text/x-python",
   "name": "python",
   "nbconvert_exporter": "python",
   "pygments_lexer": "ipython3",
   "version": "3.12.3"
  }
 },
 "nbformat": 4,
 "nbformat_minor": 5
}
