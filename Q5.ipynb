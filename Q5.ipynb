{
 "cells": [
  {
   "cell_type": "code",
   "execution_count": null,
   "id": "f82b3642-7940-4173-98e9-74d53b8b7317",
   "metadata": {},
   "outputs": [],
   "source": [
    "------------------ QUES 5------------------"
   ]
  },
  {
   "cell_type": "code",
   "execution_count": 2,
   "id": "9f10f1fc-06ba-4b83-b883-f44d727768cc",
   "metadata": {},
   "outputs": [
    {
     "data": {
      "text/plain": [
       "array([[1, 2, 3],\n",
       "       [4, 5, 6],\n",
       "       [7, 8, 9]])"
      ]
     },
     "execution_count": 2,
     "metadata": {},
     "output_type": "execute_result"
    }
   ],
   "source": [
    "import numpy as np\n",
    "m = np.array([[1, 2, 3], [4, 5, 6], [7, 8, 9]])\n",
    "m"
   ]
  },
  {
   "cell_type": "code",
   "execution_count": 3,
   "id": "da63c30b-5e58-4d75-8f9c-d6525f2b6538",
   "metadata": {},
   "outputs": [
    {
     "name": "stdout",
     "output_type": "stream",
     "text": [
      "Size of the matrix: 9\n"
     ]
    }
   ],
   "source": [
    "m_size = m.size\n",
    "print(\"Size of the matrix:\", m_size)"
   ]
  },
  {
   "cell_type": "code",
   "execution_count": 4,
   "id": "7e82a14d-ccec-4e00-b40c-7ef864a47921",
   "metadata": {},
   "outputs": [
    {
     "name": "stdout",
     "output_type": "stream",
     "text": [
      "Length of row 1: 3\n"
     ]
    }
   ],
   "source": [
    "row_length = len(m[1])\n",
    "print(\"Length of row 1:\", row_length)"
   ]
  },
  {
   "cell_type": "code",
   "execution_count": 5,
   "id": "db118dd8-9f73-4749-ba9e-9842582202a2",
   "metadata": {},
   "outputs": [
    {
     "name": "stdout",
     "output_type": "stream",
     "text": [
      "Length of column 2: 3\n"
     ]
    }
   ],
   "source": [
    "column_length = len(m[:, 2])\n",
    "print(\"Length of column 2:\", column_length)\n"
   ]
  },
  {
   "cell_type": "code",
   "execution_count": 6,
   "id": "93787b08-0242-4f03-a6ae-ebd4e99fa7f9",
   "metadata": {},
   "outputs": [
    {
     "name": "stdout",
     "output_type": "stream",
     "text": [
      "Loaded data from data.txt : 1234567890.0\n"
     ]
    }
   ],
   "source": [
    "file = 'data.txt'\n",
    "loaded_data = np.loadtxt(file)\n",
    "print(\"Loaded data from\", file, \":\", loaded_data)\n"
   ]
  },
  {
   "cell_type": "code",
   "execution_count": 7,
   "id": "072f4f37-33e3-460b-9073-02dc47ce71db",
   "metadata": {},
   "outputs": [
    {
     "name": "stdout",
     "output_type": "stream",
     "text": [
      "Matrix data stored in output_data.txt\n"
     ]
    }
   ],
   "source": [
    "output_file = 'output_data.txt'\n",
    "np.savetxt(output_file, m)\n",
    "print(\"Matrix data stored in\", output_file)\n",
    "current_scope = dir()"
   ]
  }
 ],
 "metadata": {
  "kernelspec": {
   "display_name": "Python 3 (ipykernel)",
   "language": "python",
   "name": "python3"
  },
  "language_info": {
   "codemirror_mode": {
    "name": "ipython",
    "version": 3
   },
   "file_extension": ".py",
   "mimetype": "text/x-python",
   "name": "python",
   "nbconvert_exporter": "python",
   "pygments_lexer": "ipython3",
   "version": "3.12.3"
  }
 },
 "nbformat": 4,
 "nbformat_minor": 5
}
